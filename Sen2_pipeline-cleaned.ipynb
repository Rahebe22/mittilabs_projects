{
 "cells": [
  {
   "cell_type": "code",
   "execution_count": null,
   "id": "d981374d-1585-4dfc-babd-3861b2310a77",
   "metadata": {
    "tags": []
   },
   "outputs": [],
   "source": [
    "%%capture\n",
    "!pip install \"dask[distributed]\"\n",
    "!pip install planetary-computer"
   ]
  },
  {
   "cell_type": "markdown",
   "id": "8ee4396d-118a-4d3d-b674-e54a0c87d324",
   "metadata": {
    "tags": []
   },
   "source": [
    "## Imports"
   ]
  },
  {
   "cell_type": "code",
   "execution_count": 1,
   "id": "c438851b-fe3c-449c-8e10-b255e8c64def",
   "metadata": {},
   "outputs": [],
   "source": [
    "import geopandas as gpd\n",
    "import shapely.geometry\n",
    "from shapely.geometry import box, shape\n",
    "import stackstac\n",
    "import dask\n",
    "import xarray as xr\n",
    "import os\n",
    "import numpy as np\n",
    "import leafmap\n",
    "import pystac_client\n",
    "import shapely\n",
    "from rioxarray.exceptions import NoDataInBounds\n",
    "import rioxarray as rxr"
   ]
  },
  {
   "cell_type": "markdown",
   "id": "78990c95-d18c-4316-806d-dfb5e3af164b",
   "metadata": {},
   "source": [
    "## Making grids, skip if you already have the grids"
   ]
  },
  {
   "cell_type": "code",
   "execution_count": null,
   "id": "1be889db-a8e6-4e2c-825a-123781a3fb1a",
   "metadata": {
    "tags": []
   },
   "outputs": [],
   "source": [
    "world = gpd.read_file(gpd.datasets.get_path(\"naturalearth_lowres\"))\n",
    "zambia_boundary = world[world[\"name\"] == \"Zambia\"]\n",
    "\n",
    "utm_crs = zambia_boundary.estimate_utm_crs()\n",
    "zambia_boundary = zambia_boundary.to_crs(utm_crs)\n",
    "\n",
    "# 10 meters per pixel → 2240m grid size\n",
    "grid_size = 2240\n",
    "\n",
    "minx, miny, maxx, maxy = zambia_boundary.total_bounds\n",
    "\n",
    "grid_tiles = []\n",
    "for x in np.arange(minx, maxx, grid_size):\n",
    "    for y in np.arange(miny, maxy, grid_size):\n",
    "        grid_tiles.append(box(x, y, x + grid_size, y + grid_size))\n",
    "\n",
    "grid_gdf = gpd.GeoDataFrame({\"geometry\": grid_tiles}, crs=utm_crs)\n",
    "\n",
    "zambia_grid = gpd.clip(grid_gdf, zambia_boundary)\n",
    "\n",
    "zambia_grid = zambia_grid.to_crs(epsg=4326)\n",
    "\n",
    "zambia_grid.to_file(\"zambia_grid.geojson\", driver=\"GeoJSON\")\n",
    "\n",
    "print(f\"Created {len(zambia_grid)} grid tiles.\")"
   ]
  },
  {
   "cell_type": "code",
   "execution_count": 2,
   "id": "73fe5848-e907-4606-9d72-059824b9bf3d",
   "metadata": {},
   "outputs": [],
   "source": [
    "zambia_grid = gpd.read_file(\"zambia_grid.geojson\")\n",
    "\n",
    "zambia_random_grids = zambia_grid.sample(n=20, random_state=42)\n",
    "zambia_random_grids.to_file(\"zambia_random_grids.geojson\", driver=\"GeoJSON\")"
   ]
  },
  {
   "cell_type": "markdown",
   "id": "884a0959-0453-4165-a406-c669585d9ae4",
   "metadata": {
    "tags": []
   },
   "source": [
    "### check the grids"
   ]
  },
  {
   "cell_type": "code",
   "execution_count": null,
   "id": "e89e114e-ac65-4f58-9df8-f62b0d500651",
   "metadata": {},
   "outputs": [],
   "source": [
    "zambia_random_grids = gpd.read_file(\"zambia_random_grids.geojson\")\n",
    "zambia_grid = zambia_random_grids#.to_crs(\"EPSG:4326\")\n",
    "\n",
    "ma = leafmap.Map(center=[-13.1339, 27.8493], zoom=6)\n",
    "ma.add_basemap('SATELLITE')\n",
    "ma.add_geojson(zambia_random_grids)\n",
    "ma"
   ]
  },
  {
   "cell_type": "markdown",
   "id": "55f4a502-34a4-45ea-865e-f29a22a0645a",
   "metadata": {
    "tags": []
   },
   "source": [
    "## Downloading S2 pipeline"
   ]
  },
  {
   "cell_type": "markdown",
   "id": "15572c8d-4d6d-4147-b573-99c89fbdcec9",
   "metadata": {},
   "source": [
    "### Load and Prepare Zambia Grids"
   ]
  },
  {
   "cell_type": "code",
   "execution_count": null,
   "id": "11f1ef4e-d420-48ca-b051-879153209062",
   "metadata": {
    "tags": []
   },
   "outputs": [],
   "source": [
    "zambia_boundary = gpd.read_file(\"zambia_boundary.geojson\")\n",
    "zambia_boundary = zambia_boundary.to_crs(\"EPSG:4326\")\n",
    "bbox = tuple(zambia_boundary.total_bounds)\n",
    "\n",
    "print(\"Bounding Box:\", bbox)"
   ]
  },
  {
   "cell_type": "markdown",
   "id": "bcf74e2f-a6ef-4b23-9413-4d8777c489f2",
   "metadata": {},
   "source": [
    "### Search, Stack, Composite, and Save"
   ]
  },
  {
   "cell_type": "markdown",
   "id": "1e9e5acf-1a1d-4a4f-8934-e095179d4328",
   "metadata": {},
   "source": [
    "### Test"
   ]
  },
  {
   "cell_type": "code",
   "execution_count": null,
   "id": "020da532-96e3-4202-b356-91987ace7db6",
   "metadata": {
    "tags": []
   },
   "outputs": [],
   "source": [
    "catalog = pystac_client.Client.open(\"https://earth-search.aws.element84.com/v1\")\n",
    "search = catalog.search(\n",
    "    collections=[\"sentinel-2-l2a\"],\n",
    "    bbox=bbox,\n",
    "    datetime=\"2020-01-01/2020-01-30\",\n",
    "    query={\"eo:cloud_cover\": {\"lt\": 60}},\n",
    "    limit=10,\n",
    ")"
   ]
  },
  {
   "cell_type": "code",
   "execution_count": null,
   "id": "b6825b06-135c-401f-92d8-1454eb40f262",
   "metadata": {
    "tags": []
   },
   "outputs": [],
   "source": [
    "items = search.get_all_items()\n",
    "len(items)"
   ]
  },
  {
   "cell_type": "code",
   "execution_count": null,
   "id": "67da1ba4-71f6-44f1-b25d-328ba12354e1",
   "metadata": {
    "tags": []
   },
   "outputs": [],
   "source": [
    "items[0]"
   ]
  },
  {
   "cell_type": "code",
   "execution_count": null,
   "id": "770a1925-4954-493c-ab8b-ddf4e2830c30",
   "metadata": {
    "tags": []
   },
   "outputs": [],
   "source": [
    "items[0].properties['proj:code']"
   ]
  },
  {
   "cell_type": "code",
   "execution_count": null,
   "id": "72a15b83-cfc3-4daf-8c6b-ad2140c725e0",
   "metadata": {
    "tags": []
   },
   "outputs": [],
   "source": [
    "zambia_random_grids = gpd.read_file(\"zambia_random_grids.geojson\")\n",
    "zambia_grid = zambia_random_grids.to_crs(\"EPSG:4326\")"
   ]
  },
  {
   "cell_type": "code",
   "execution_count": null,
   "id": "750d720d-6a15-43de-9b6f-8aa62ce45e9b",
   "metadata": {
    "tags": []
   },
   "outputs": [],
   "source": [
    "m = leafmap.Map(center=[-13.1339, 27.8493], zoom=5, height=\"600px\")\n",
    "m.add_geojson(gpd.GeoDataFrame.from_features(items.to_dict(), crs=\"EPSG:4326\"))\n",
    "#m.add_geojson(items.to_dict())\n",
    "m.add_geojson(zambia_grid, style={\"color\": \"red\", \"fillOpacity\": 0.3})\n",
    "m"
   ]
  },
  {
   "cell_type": "code",
   "execution_count": null,
   "id": "14d189db-5516-493c-ada6-b2e9241ffaf9",
   "metadata": {
    "tags": []
   },
   "outputs": [],
   "source": [
    "import glob\n",
    "\n",
    "m = leafmap.Map(center=[-13.1339, 27.8493], zoom=5, height=\"600px\")\n",
    "tif_files = glob.glob(os.path.join(output_folder, \"*.tif\"))\n",
    "\n",
    "for tif_file in tif_files:\n",
    "    m.add_raster(tif_file, colormap=\"viridis\", opacity=0.7)\n",
    "    m.add_geojson(zambia_grid, style={\"color\": \"red\", \"fillOpacity\": 0.3})\n",
    "\n",
    "m"
   ]
  },
  {
   "cell_type": "markdown",
   "id": "ff9acbf9-5e90-4fb8-93bc-0b38bbf2d24b",
   "metadata": {},
   "source": [
    "## Downloading pipeline"
   ]
  },
  {
   "cell_type": "code",
   "execution_count": null,
   "id": "dc19b3c7-6bd9-42c4-ae75-6300a3f0be22",
   "metadata": {},
   "outputs": [],
   "source": [
    "# Define target months\n",
    "target_months = [\"11-2020\", \"01-2021\", \"03-2021\", \"05-2021\", \n",
    "                 \"11-2021\", \"01-2022\", \"03-2022\", \"05-2022\"]\n",
    "\n",
    "# Open STAC Catalog\n",
    "catalog = pystac_client.Client.open(\"https://earth-search.aws.element84.com/v1\")\n",
    "\n",
    "# Output Directory\n",
    "output_folder = \"Sentinel2_UTM_TimeSeries\"\n",
    "os.makedirs(output_folder, exist_ok=True)\n",
    "\n",
    "# Sentinel-2 Bands (including SWIR1 and RedEdge1) + Scene Classification Layer (SCL)\n",
    "assets = ['blue', 'green', 'nir', 'red', 'swir1', 'rededge1', 'scl']"
   ]
  },
  {
   "cell_type": "code",
   "execution_count": null,
   "id": "6840bf93-e94d-4aba-a1e0-4fc23f506d5e",
   "metadata": {},
   "outputs": [],
   "source": [
    "# Function to determine UTM zone from longitude\n",
    "def get_utm_zone(longitude):\n",
    "    return int((longitude + 180) / 6) + 1"
   ]
  },
  {
   "cell_type": "code",
   "execution_count": null,
   "id": "7e812593-695c-447e-9b52-6f8111481525",
   "metadata": {
    "tags": []
   },
   "outputs": [],
   "source": [
    "# Process each grid cell\n",
    "for index, row in zambia_grid.iterrows():\n",
    "    grid_geom = row.geometry\n",
    "    centroid_lon = grid_geom.centroid.x\n",
    "    utm_zone = get_utm_zone(centroid_lon)\n",
    "    utm_epsg = 32700 + utm_zone  # UTM Southern Hemisphere\n",
    "\n",
    "    print(f\"Processing Grid {index} - Expected UTM Zone: EPSG:{utm_epsg}\")\n",
    "\n",
    "    stack_list = []\n",
    "    reference_array = None  # Store reference dataset for alignment (S2 and S1)\n",
    "\n",
    "    for month in target_months:\n",
    "        month_number, year = month.split(\"-\")  \n",
    "        date_range = f\"{year}-{month_number}-01/{year}-{month_number}-30\"\n",
    "\n",
    "        # Search Sentinel-2 Images\n",
    "        search = catalog.search(\n",
    "            collections=[\"sentinel-2-l2a\"],\n",
    "            intersects=grid_geom,\n",
    "            datetime=date_range,\n",
    "            limit=10\n",
    "        )\n",
    "\n",
    "        items = search.get_all_items()\n",
    "        if not items:\n",
    "            print(f\"Skipping {month} for Grid {index}: No matching images.\")\n",
    "            continue\n",
    "\n",
    "        # Extract CRS from first item using `proj:code`\n",
    "        first_item = items[0]\n",
    "        if \"proj:code\" in first_item.properties:\n",
    "            sentinel_epsg = int(first_item.properties[\"proj:code\"].replace(\"EPSG:\", \"\"))\n",
    "        else:\n",
    "            print(f\"Skipping {month} for Grid {index}: No CRS found.\")\n",
    "            continue\n",
    "\n",
    "        print(f\"Using CRS EPSG:{sentinel_epsg} for {month}\")\n",
    "\n",
    "        # Stack Images **Explicitly setting the CRS**\n",
    "        stack = stackstac.stack(items, assets=assets, epsg=sentinel_epsg, resolution=10)\n",
    "\n",
    "        # Reproject the grid geometry to match Sentinel-2 CRS\n",
    "        grid_utm = gpd.GeoSeries(grid_geom, crs=zambia_grid.crs).to_crs(f\"EPSG:{sentinel_epsg}\").geometry[0]\n",
    "\n",
    "        # Clip using the reprojected grid\n",
    "        stack_clipped = stack.rio.clip([grid_utm], f\"EPSG:{sentinel_epsg}\", drop=True)\n",
    "\n",
    "        # Mask Invalid Pixels Based on SCL\n",
    "        scl_mask = (stack_clipped.sel(band=\"scl\") != 0) & \\\n",
    "                   (stack_clipped.sel(band=\"scl\") != 1) & \\\n",
    "                   (stack_clipped.sel(band=\"scl\") != 3) & \\\n",
    "                   (stack_clipped.sel(band=\"scl\") < 8)\n",
    "\n",
    "        stack_filtered = stack_clipped.where(scl_mask, np.nan)\n",
    "\n",
    "        # Compute Median Composite for the Month\n",
    "        stack_median = stack_filtered.median(dim=\"time\", keep_attrs=True)\n",
    "\n",
    "        # Store reference shape from the first image\n",
    "        if reference_array is None:\n",
    "            reference_array = stack_median\n",
    "\n",
    "        # Ensure all images have the same shape before stacking\n",
    "        if stack_median.shape != reference_array.shape:\n",
    "            stack_median = stack_median.rio.reproject_match(reference_array)\n",
    "\n",
    "        # Align coordinates before appending to stack_list\n",
    "        stack_median = stack_median.assign_coords(reference_array.coords)\n",
    "\n",
    "        # Ensure final chip is exactly 224 x 224 pixels\n",
    "        stack_median = stack_median.rio.reproject(\n",
    "            dst_crs=f\"EPSG:{sentinel_epsg}\",\n",
    "            shape=(224, 224),\n",
    "            resampling=1  # Nearest neighbor resampling\n",
    "        )\n",
    "\n",
    "        stack_list.append(stack_median)\n",
    "\n",
    "    if stack_list:\n",
    "        # Convert list to xarray DataArray before writing\n",
    "        time_series_stack = xr.concat(stack_list, dim=\"time\", coords=\"minimal\", compat=\"override\")\n",
    "        time_series_stack.attrs[\"crs\"] = f\"EPSG:{sentinel_epsg}\"\n",
    "\n",
    "        # Remove SCL Band before reshaping\n",
    "        if \"scl\" in time_series_stack.coords[\"band\"].values:\n",
    "            time_series_stack = time_series_stack.sel(band=time_series_stack.band != \"scl\")\n",
    "\n",
    "        # Reshape from 4D (time, band, height, width) -> 3D (new_band, height, width)\n",
    "        time_series_stack = time_series_stack.stack(new_band=(\"time\", \"band\"))\n",
    "\n",
    "        # Remove time dimension before transposing\n",
    "        if \"time\" in time_series_stack.dims:\n",
    "            time_series_stack = time_series_stack.isel(time=0)\n",
    "\n",
    "        # Transpose to (band, height, width) format\n",
    "        time_series_stack = time_series_stack.transpose(\"new_band\", \"y\", \"x\")\n",
    "\n",
    "        # Extract Sentinel-2 item ID from the first image in the list\n",
    "        sentinel_item_id = first_item.id  \n",
    "\n",
    "        # Construct the output filename with Sentinel-2 item ID\n",
    "        output_filename = f\"{output_folder}/{sentinel_item_id}_Grid_{index}_UTM_{utm_zone}.tif\"\n",
    "\n",
    "        # Save the raster\n",
    "        time_series_stack.rio.to_raster(output_filename)\n",
    "\n",
    "        # Print summary of final raster dimensions\n",
    "        # Get the actual height and width from the xarray dataset\n",
    "        h, w = time_series_stack.sizes[\"y\"], time_series_stack.sizes[\"x\"]\n",
    "        print(f\"\\nFinal Image Dimensions: {time_series_stack.shape}\")\n",
    "        print(f\"Saved time-series stack for Grid {index} in EPSG:{sentinel_epsg} as {output_filename}\\n\")\n",
    "\n",
    "print(\"Processing complete!\")\n"
   ]
  },
  {
   "cell_type": "code",
   "execution_count": null,
   "id": "5ebd5463-a10b-4a3a-a947-defc36b62be7",
   "metadata": {},
   "outputs": [],
   "source": []
  }
 ],
 "metadata": {
  "kernelspec": {
   "display_name": "Python 3 (ipykernel)",
   "language": "python",
   "name": "python3"
  },
  "language_info": {
   "codemirror_mode": {
    "name": "ipython",
    "version": 3
   },
   "file_extension": ".py",
   "mimetype": "text/x-python",
   "name": "python",
   "nbconvert_exporter": "python",
   "pygments_lexer": "ipython3",
   "version": "3.11.6"
  }
 },
 "nbformat": 4,
 "nbformat_minor": 5
}
