{
 "cells": [
  {
   "cell_type": "code",
   "execution_count": 20,
   "id": "4c57e5bb-cf76-46d1-bc34-5b8bbbb947c9",
   "metadata": {
    "tags": []
   },
   "outputs": [],
   "source": [
    "import geopandas as gpd\n",
    "import hashlib\n",
    "import rasterio\n",
    "from rasterio.enums import Resampling\n",
    "from rasterio.windows import from_bounds\n",
    "import os\n",
    "from rasterio.warp import calculate_default_transform, reproject, Resampling\n",
    "from shapely.geometry import box\n",
    "import numpy as np\n",
    "import re\n",
    "import shutil\n",
    "from shapely.geometry import Point"
   ]
  },
  {
   "cell_type": "markdown",
   "id": "d7b51bb7-82e6-48b3-9851-017ea2f4732a",
   "metadata": {
    "tags": []
   },
   "source": [
    "## Resample and Crop L-band to 224x224 Using Grid"
   ]
  },
  {
   "cell_type": "code",
   "execution_count": 27,
   "id": "0121d5de-dc10-43ac-8fb3-f311a13c40e0",
   "metadata": {
    "tags": []
   },
   "outputs": [
    {
     "name": "stdout",
     "output_type": "stream",
     "text": [
      "Resolution: (0.00019989685404847444, 0.00019995554567681697)\n",
      "CRS: EPSG:4326\n"
     ]
    }
   ],
   "source": [
    "with rasterio.open(\"./rice_practices/SAOCOM/EOL1ASARSAO1A11592909_2024-12-25_geo.tif\") as src:\n",
    "    print(\"Resolution:\", src.res)  # (xres, yres)\n",
    "    print(\"CRS:\", src.crs)\n"
   ]
  },
  {
   "cell_type": "code",
   "execution_count": 37,
   "id": "6e196798-5b3a-47de-9725-7678682a1782",
   "metadata": {
    "tags": []
   },
   "outputs": [],
   "source": [
    "target_crs = \"EPSG:32644\"\n",
    "tmp_dir = \"./rice_practices/SAOCOM_chips_reproj\"\n",
    "os.makedirs(tmp_dir, exist_ok=True)"
   ]
  },
  {
   "cell_type": "code",
   "execution_count": 38,
   "id": "96d917a3-0499-4830-87c8-5a18cfbbc262",
   "metadata": {
    "tags": []
   },
   "outputs": [],
   "source": [
    "lband_folder = \"./rice_practices/SAOCOM\"\n",
    "output_folder = \"./rice_practices/SAOCOM_chips_10_meter_new\"\n",
    "os.makedirs(output_folder, exist_ok=True)"
   ]
  },
  {
   "cell_type": "code",
   "execution_count": null,
   "id": "20c68375-0ed7-495d-8600-9e8a0fafe098",
   "metadata": {
    "tags": []
   },
   "outputs": [],
   "source": [
    "# Extract date from filename\n",
    "def extract_date(filename):\n",
    "    match = re.search(r'_(\\d{4}-\\d{2}-\\d{2})_', filename)\n",
    "    if match:\n",
    "        return match.group(1)\n",
    "    match = re.search(r'_(\\d{4}-\\d{2}-\\d{2})\\.tif$', filename)\n",
    "    if match:\n",
    "        return match.group(1)\n",
    "    return \"unknown\"\n",
    "\n",
    "# Loop over all grids\n",
    "for _, row in grids.iterrows():\n",
    "    fid = row[\"FID\"]\n",
    "    bounds = row.geometry.bounds\n",
    "    print(f\"\\nProcessing grid: {fid}\")\n",
    "\n",
    "    for fname in os.listdir(lband_folder):\n",
    "        if not fname.endswith(\".tif\"):\n",
    "            continue\n",
    "        date_str = extract_date(fname)\n",
    "        fpath = os.path.join(lband_folder, fname)\n",
    "\n",
    "        # Reproject L-band to UTM (EPSG:32644)\n",
    "        with rasterio.open(fpath) as src:\n",
    "            dst_transform, dst_width, dst_height = calculate_default_transform(\n",
    "                src.crs, target_crs, src.width, src.height, *src.bounds, resolution=10\n",
    "            )\n",
    "            kwargs = src.meta.copy()\n",
    "            kwargs.update({\n",
    "                \"crs\": target_crs,\n",
    "                \"transform\": dst_transform,\n",
    "                \"width\": dst_width,\n",
    "                \"height\": dst_height\n",
    "            })\n",
    "\n",
    "            tmp_path = os.path.join(tmp_dir, f\"reprojected_{os.path.splitext(fname)[0]}.tif\")\n",
    "            with rasterio.open(tmp_path, \"w\", **kwargs) as dst:\n",
    "                for b in range(1, src.count + 1):\n",
    "                    reproject(\n",
    "                        source=rasterio.band(src, b),\n",
    "                        destination=rasterio.band(dst, b),\n",
    "                        src_transform=src.transform,\n",
    "                        src_crs=src.crs,\n",
    "                        dst_transform=dst_transform,\n",
    "                        dst_crs=target_crs,\n",
    "                        resampling=Resampling.bilinear\n",
    "                    )\n",
    "\n",
    "        with rasterio.open(tmp_path) as reproj:\n",
    "            chip_geom = box(*reproj.bounds)\n",
    "\n",
    "            # Check if this L-band image intersects this grid\n",
    "            if not row.geometry.intersects(chip_geom):\n",
    "                continue\n",
    "\n",
    "            # Crop to grid bounds\n",
    "            crop_window = from_bounds(*bounds, transform=reproj.transform)\n",
    "            try:\n",
    "                cropped = reproj.read(window=crop_window)\n",
    "            except:\n",
    "                print(f\"Failed to crop {fname} for grid {fid}\")\n",
    "                continue\n",
    "\n",
    "            transform = rasterio.windows.transform(crop_window, reproj.transform)\n",
    "\n",
    "            out_name = f\"{fid}_{date_str}_lband.tif\"\n",
    "            out_path = os.path.join(output_folder, out_name)\n",
    "\n",
    "            # Total pixel checks\n",
    "            total_pixels = np.prod(cropped.shape)\n",
    "            nan_ratio = np.isnan(cropped).sum() / total_pixels\n",
    "            zero_ratio = (cropped == 0).sum() / total_pixels\n",
    "\n",
    "            if nan_ratio > 0.05:\n",
    "                print(f\"skipped >5% NaN: {out_name} ({nan_ratio:.2%} NaNs)\")\n",
    "                continue\n",
    "\n",
    "            if zero_ratio > 0.05:\n",
    "                print(f\"skipped >5% zeros: {out_name} ({zero_ratio:.2%} zeros)\")\n",
    "                continue\n",
    "\n",
    "            with rasterio.open(\n",
    "                out_path, \"w\",\n",
    "                driver=\"GTiff\",\n",
    "                height=224,\n",
    "                width=224,\n",
    "                count=reproj.count,\n",
    "                dtype=reproj.dtypes[0],\n",
    "                crs=reproj.crs,\n",
    "                transform=transform\n",
    "            ) as dst:\n",
    "                dst.write(cropped)\n",
    "\n",
    "            print(f\"Saved: {out_name}\")\n"
   ]
  }
 ],
 "metadata": {
  "kernelspec": {
   "display_name": "Python 3 (ipykernel)",
   "language": "python",
   "name": "python3"
  },
  "language_info": {
   "codemirror_mode": {
    "name": "ipython",
    "version": 3
   },
   "file_extension": ".py",
   "mimetype": "text/x-python",
   "name": "python",
   "nbconvert_exporter": "python",
   "pygments_lexer": "ipython3",
   "version": "3.11.6"
  }
 },
 "nbformat": 4,
 "nbformat_minor": 5
}
