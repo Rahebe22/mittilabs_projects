{
 "cells": [
  {
   "cell_type": "code",
   "execution_count": 4,
   "id": "80dcd93d-0696-4e85-9209-0578de469477",
   "metadata": {
    "tags": []
   },
   "outputs": [],
   "source": [
    "import os\n",
    "import rasterio\n",
    "from rasterio.windows import Window\n",
    "from tqdm import tqdm"
   ]
  },
  {
   "cell_type": "code",
   "execution_count": 5,
   "id": "1bd2106e-c48f-4c96-9ec3-596948655129",
   "metadata": {
    "tags": []
   },
   "outputs": [
    {
     "data": {
      "text/plain": [
       "'/home/airg/rabedi/thesis/diffusion'"
      ]
     },
     "execution_count": 5,
     "metadata": {},
     "output_type": "execute_result"
    }
   ],
   "source": [
    "pwd"
   ]
  },
  {
   "cell_type": "code",
   "execution_count": 6,
   "id": "62d76a43-b01e-4742-b2bb-20ece954fef9",
   "metadata": {
    "tags": []
   },
   "outputs": [],
   "source": [
    "input_root = \"/home/airg/data/imagery/planet/tiles/\"\n",
    "output_root = \"./pretrain_data_folder\"\n",
    "chip_size = 224\n",
    "years_to_process = [\"2022\"]"
   ]
  },
  {
   "cell_type": "code",
   "execution_count": 7,
   "id": "da277839-bdda-4a37-a2a0-dd5b4c9c214b",
   "metadata": {
    "tags": []
   },
   "outputs": [],
   "source": [
    "def rechip_tile(input_path, output_folder):\n",
    "    \"\"\"\n",
    "    Split a large TIFF into 224x224 chips and save them to output_folder.\n",
    "    Skip chips that already exist.\n",
    "    \"\"\"\n",
    "    basename = os.path.basename(input_path).replace('.tif', '')\n",
    "    with rasterio.open(input_path) as src:\n",
    "        width, height = src.width, src.height\n",
    "        count = 0\n",
    "        for row in range(0, height, chip_size):\n",
    "            for col in range(0, width, chip_size):\n",
    "                if row + chip_size > height or col + chip_size > width:\n",
    "                    continue  # Skip edge chips\n",
    "\n",
    "                chip_name = f\"{basename}_{count}_cog.tif\"\n",
    "                chip_path = os.path.join(output_folder, chip_name)\n",
    "\n",
    "                if os.path.exists(chip_path):\n",
    "                    count += 1\n",
    "                    continue  # Skip already processed chip\n",
    "\n",
    "                window = Window(col, row, chip_size, chip_size)\n",
    "                transform = src.window_transform(window)\n",
    "                chip = src.read(window=window)\n",
    "\n",
    "                profile = src.profile.copy()\n",
    "                profile.update({\n",
    "                    \"height\": chip_size,\n",
    "                    \"width\": chip_size,\n",
    "                    \"transform\": transform\n",
    "                })\n",
    "\n",
    "                os.makedirs(output_folder, exist_ok=True)\n",
    "\n",
    "                with rasterio.open(chip_path, 'w', **profile) as dst:\n",
    "                    dst.write(chip)\n",
    "\n",
    "                count += 1\n",
    "\n",
    "\n",
    "def process_selected_years(input_root, output_root, years):\n",
    "    \"\"\"\n",
    "    Process a list of years, rechipping all .tif files in each year's folder.\n",
    "    Skips missing folders automatically.\n",
    "    \"\"\"\n",
    "    for year in years:\n",
    "        year_path = os.path.join(input_root, str(year))\n",
    "        if not os.path.isdir(year_path):\n",
    "            print(f\"Skipping missing year folder: {year_path}\")\n",
    "            continue\n",
    "\n",
    "        out_year_path = os.path.join(output_root, str(year))\n",
    "        os.makedirs(out_year_path, exist_ok=True)\n",
    "\n",
    "        tif_files = [f for f in os.listdir(year_path) if f.endswith('.tif')]\n",
    "        for tif in tqdm(tif_files, desc=f\"Processing year {year}\"):\n",
    "            tif_path = os.path.join(year_path, tif)\n",
    "            rechip_tile(tif_path, out_year_path)\n",
    "\n",
    "\n",
    "def process_all_years(input_root, output_root):\n",
    "    \"\"\"\n",
    "    Automatically find and process all subfolders (representing years) in input_root.\n",
    "    \"\"\"\n",
    "    year_folders = [\n",
    "        f for f in os.listdir(input_root)\n",
    "        if os.path.isdir(os.path.join(input_root, f))\n",
    "    ]\n",
    "    process_selected_years(input_root, output_root, year_folders)\n"
   ]
  },
  {
   "cell_type": "code",
   "execution_count": 9,
   "id": "18ea807b-824d-4906-8446-56d6b1acf05b",
   "metadata": {
    "tags": []
   },
   "outputs": [
    {
     "name": "stderr",
     "output_type": "stream",
     "text": [
      "Processing year 2022:   9%|█▎             | 5005/55989 [00:30<05:11, 163.93it/s]\n"
     ]
    },
    {
     "ename": "RasterioIOError",
     "evalue": "Read or write failed. /home/airg/data/imagery/planet/tiles/2022/tile752256_2022-09_buf179_cog.tif, band 1: IReadBlock failed at X offset 1, Y offset 2: TIFFReadEncodedTile() failed.",
     "output_type": "error",
     "traceback": [
      "\u001b[0;31m---------------------------------------------------------------------------\u001b[0m",
      "\u001b[0;31mCPLE_AppDefinedError\u001b[0m                      Traceback (most recent call last)",
      "File \u001b[0;32mrasterio/_io.pyx:938\u001b[0m, in \u001b[0;36mrasterio._io.DatasetReaderBase._read\u001b[0;34m()\u001b[0m\n",
      "File \u001b[0;32mrasterio/_io.pyx:176\u001b[0m, in \u001b[0;36mrasterio._io.io_multi_band\u001b[0;34m()\u001b[0m\n",
      "File \u001b[0;32mrasterio/_err.pyx:195\u001b[0m, in \u001b[0;36mrasterio._err.exc_wrap_int\u001b[0;34m()\u001b[0m\n",
      "\u001b[0;31mCPLE_AppDefinedError\u001b[0m: /home/airg/data/imagery/planet/tiles/2022/tile752256_2022-09_buf179_cog.tif, band 1: IReadBlock failed at X offset 1, Y offset 2: TIFFReadEncodedTile() failed.",
      "\nDuring handling of the above exception, another exception occurred:\n",
      "\u001b[0;31mRasterioIOError\u001b[0m                           Traceback (most recent call last)",
      "Cell \u001b[0;32mIn[9], line 1\u001b[0m\n\u001b[0;32m----> 1\u001b[0m \u001b[43mprocess_selected_years\u001b[49m\u001b[43m(\u001b[49m\u001b[43minput_root\u001b[49m\u001b[43m,\u001b[49m\u001b[43m \u001b[49m\u001b[43moutput_root\u001b[49m\u001b[43m,\u001b[49m\u001b[43m \u001b[49m\u001b[43myears_to_process\u001b[49m\u001b[43m)\u001b[49m\n",
      "Cell \u001b[0;32mIn[7], line 58\u001b[0m, in \u001b[0;36mprocess_selected_years\u001b[0;34m(input_root, output_root, years)\u001b[0m\n\u001b[1;32m     56\u001b[0m \u001b[38;5;28;01mfor\u001b[39;00m tif \u001b[38;5;129;01min\u001b[39;00m tqdm(tif_files, desc\u001b[38;5;241m=\u001b[39m\u001b[38;5;124mf\u001b[39m\u001b[38;5;124m\"\u001b[39m\u001b[38;5;124mProcessing year \u001b[39m\u001b[38;5;132;01m{\u001b[39;00myear\u001b[38;5;132;01m}\u001b[39;00m\u001b[38;5;124m\"\u001b[39m):\n\u001b[1;32m     57\u001b[0m     tif_path \u001b[38;5;241m=\u001b[39m os\u001b[38;5;241m.\u001b[39mpath\u001b[38;5;241m.\u001b[39mjoin(year_path, tif)\n\u001b[0;32m---> 58\u001b[0m     \u001b[43mrechip_tile\u001b[49m\u001b[43m(\u001b[49m\u001b[43mtif_path\u001b[49m\u001b[43m,\u001b[49m\u001b[43m \u001b[49m\u001b[43mout_year_path\u001b[49m\u001b[43m)\u001b[49m\n",
      "Cell \u001b[0;32mIn[7], line 24\u001b[0m, in \u001b[0;36mrechip_tile\u001b[0;34m(input_path, output_folder)\u001b[0m\n\u001b[1;32m     22\u001b[0m window \u001b[38;5;241m=\u001b[39m Window(col, row, chip_size, chip_size)\n\u001b[1;32m     23\u001b[0m transform \u001b[38;5;241m=\u001b[39m src\u001b[38;5;241m.\u001b[39mwindow_transform(window)\n\u001b[0;32m---> 24\u001b[0m chip \u001b[38;5;241m=\u001b[39m \u001b[43msrc\u001b[49m\u001b[38;5;241;43m.\u001b[39;49m\u001b[43mread\u001b[49m\u001b[43m(\u001b[49m\u001b[43mwindow\u001b[49m\u001b[38;5;241;43m=\u001b[39;49m\u001b[43mwindow\u001b[49m\u001b[43m)\u001b[49m\n\u001b[1;32m     26\u001b[0m profile \u001b[38;5;241m=\u001b[39m src\u001b[38;5;241m.\u001b[39mprofile\u001b[38;5;241m.\u001b[39mcopy()\n\u001b[1;32m     27\u001b[0m profile\u001b[38;5;241m.\u001b[39mupdate({\n\u001b[1;32m     28\u001b[0m     \u001b[38;5;124m\"\u001b[39m\u001b[38;5;124mheight\u001b[39m\u001b[38;5;124m\"\u001b[39m: chip_size,\n\u001b[1;32m     29\u001b[0m     \u001b[38;5;124m\"\u001b[39m\u001b[38;5;124mwidth\u001b[39m\u001b[38;5;124m\"\u001b[39m: chip_size,\n\u001b[1;32m     30\u001b[0m     \u001b[38;5;124m\"\u001b[39m\u001b[38;5;124mtransform\u001b[39m\u001b[38;5;124m\"\u001b[39m: transform\n\u001b[1;32m     31\u001b[0m })\n",
      "File \u001b[0;32mrasterio/_io.pyx:614\u001b[0m, in \u001b[0;36mrasterio._io.DatasetReaderBase.read\u001b[0;34m()\u001b[0m\n",
      "File \u001b[0;32mrasterio/_io.pyx:941\u001b[0m, in \u001b[0;36mrasterio._io.DatasetReaderBase._read\u001b[0;34m()\u001b[0m\n",
      "\u001b[0;31mRasterioIOError\u001b[0m: Read or write failed. /home/airg/data/imagery/planet/tiles/2022/tile752256_2022-09_buf179_cog.tif, band 1: IReadBlock failed at X offset 1, Y offset 2: TIFFReadEncodedTile() failed."
     ]
    }
   ],
   "source": [
    "process_selected_years(input_root, output_root, years_to_process)"
   ]
  },
  {
   "cell_type": "code",
   "execution_count": null,
   "id": "a52ced07-6711-4671-b0ad-076449fc29ed",
   "metadata": {},
   "outputs": [],
   "source": []
  }
 ],
 "metadata": {
  "kernelspec": {
   "display_name": "Python 3 (ipykernel)",
   "language": "python",
   "name": "python3"
  },
  "language_info": {
   "codemirror_mode": {
    "name": "ipython",
    "version": 3
   },
   "file_extension": ".py",
   "mimetype": "text/x-python",
   "name": "python",
   "nbconvert_exporter": "python",
   "pygments_lexer": "ipython3",
   "version": "3.11.6"
  }
 },
 "nbformat": 4,
 "nbformat_minor": 5
}
